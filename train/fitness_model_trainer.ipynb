{
  "nbformat": 4,
  "nbformat_minor": 0,
  "metadata": {
    "colab": {
      "name": "fitness_model_trainer.ipynb",
      "provenance": [],
      "collapsed_sections": []
    },
    "kernelspec": {
      "name": "python3",
      "display_name": "Python 3"
    },
    "language_info": {
      "name": "python"
    }
  },
  "cells": [
    {
      "cell_type": "markdown",
      "metadata": {
        "id": "oJOM6b2Qzg5y"
      },
      "source": [
        "# Training a model from fitness data\n",
        "\n",
        "This code was adapted from the tutorial 'Get started with machine learning on Arduino' by Sandeep Mistry & Dominic Pajak in the Arduino blog. Special thanks for the Arduino team for giving the resources as a starting point-\n",
        "[Link to the blog](https://blog.arduino.cc/2019/10/15/get-started-with-machine-learning-on-arduino/)"
      ]
    },
    {
      "cell_type": "code",
      "metadata": {
        "id": "2Il1VWxc1XMr"
      },
      "source": [
        "import numpy as np\n",
        "import pandas as pd\n",
        "import tensorflow as tf\n",
        "import seaborn as sns\n",
        "import matplotlib.pyplot as plt"
      ],
      "execution_count": 1,
      "outputs": []
    },
    {
      "cell_type": "code",
      "metadata": {
        "colab": {
          "base_uri": "https://localhost:8080/"
        },
        "id": "MIZQ4GYGusaS",
        "outputId": "1ee626a0-2475-416f-a139-74842d8ddb67"
      },
      "source": [
        "print(\"numpy:\", np.__version__)\n",
        "print(\"pandas:\", pd.__version__)\n",
        "print(\"tensorflow:\", tf.__version__)\n",
        "print(\"seaborn\", sns.__version__)"
      ],
      "execution_count": 2,
      "outputs": [
        {
          "output_type": "stream",
          "text": [
            "numpy: 1.19.5\n",
            "pandas: 1.1.5\n",
            "tensorflow: 2.5.0\n",
            "seaborn 0.11.1\n"
          ],
          "name": "stdout"
        }
      ]
    },
    {
      "cell_type": "code",
      "metadata": {
        "id": "ZNV2tl3omicB"
      },
      "source": [
        "# Define constants required for program\n",
        "np.set_printoptions(precision=3, suppress=True)\n",
        "\n",
        "SEED = 1337\n",
        "np.random.seed(SEED)\n",
        "tf.random.set_seed(SEED)\n",
        "\n",
        "ACTIONS = [\"walking\", \"sitting\", \"standing\"]\n",
        "SAMPLES_PER_ACTION = 50\n",
        "NUM_ACTIONS = len(ACTIONS)\n",
        "ONE_HOT_ENCODED_ACTIONS = np.eye(NUM_ACTIONS)"
      ],
      "execution_count": 3,
      "outputs": []
    },
    {
      "cell_type": "code",
      "metadata": {
        "colab": {
          "base_uri": "https://localhost:8080/"
        },
        "id": "JbDRR90Nmw3C",
        "outputId": "92bfd7b8-2df8-4a60-999b-e3d6dc28f2d6"
      },
      "source": [
        "# Parse the data\n",
        "inputs = []\n",
        "outputs = []\n",
        "\n",
        "for i in range(NUM_ACTIONS):\n",
        "  action = ACTIONS[i]\n",
        "  print(f\"Processing file for action '{action}'.\")\n",
        "\n",
        "  output = ONE_HOT_ENCODED_ACTIONS[i]\n",
        "  df = pd.read_csv(action+\".csv\", skip_blank_lines=True)\n",
        "  num_recordings = int(df.shape[0] / SAMPLES_PER_ACTION)\n",
        "  print(f\"\\tThere are {num_recordings} recordings in the {action} file.\")\n",
        "\n",
        "  for i in range(num_recordings):\n",
        "    tensor = []\n",
        "    for j in range(SAMPLES_PER_ACTION):\n",
        "      index = i * SAMPLES_PER_ACTION + j\n",
        "      tensor += [\n",
        "          (df['acc.x'][index]) / 4,\n",
        "          (df['acc.y'][index]) / 4,\n",
        "          (df['acc.z'][index]) / 4,\n",
        "          (df['gyro.x'][index]) / 2000,\n",
        "          (df['gyro.y'][index]) / 2000,\n",
        "          (df['gyro.z'][index]) / 2000\n",
        "      ]\n",
        "\n",
        "    inputs.append(tensor)\n",
        "    outputs.append(output)\n",
        "\n",
        "inputs = np.array(inputs)\n",
        "outputs = np.array(outputs)\n",
        "\n",
        "print(\"Data set parsing and preparation complete.\")"
      ],
      "execution_count": 4,
      "outputs": [
        {
          "output_type": "stream",
          "text": [
            "Processing file for action 'walking'.\n",
            "\tThere are 30 recordings in the walking file.\n",
            "Processing file for action 'sitting'.\n",
            "\tThere are 30 recordings in the sitting file.\n",
            "Processing file for action 'standing'.\n",
            "\tThere are 30 recordings in the standing file.\n",
            "Data set parsing and preparation complete.\n"
          ],
          "name": "stdout"
        }
      ]
    },
    {
      "cell_type": "code",
      "metadata": {
        "colab": {
          "base_uri": "https://localhost:8080/"
        },
        "id": "S_s6ysDlm1vG",
        "outputId": "05588e1f-eef2-4103-ddb2-ae4c472f7c3a"
      },
      "source": [
        "# Randomize the order of the data and split into train, test and validation sets\n",
        "num_inputs = len(inputs)\n",
        "randomize = np.arange(num_inputs)\n",
        "np.random.shuffle(randomize)\n",
        "\n",
        "inputs = inputs[randomize]\n",
        "outputs = outputs[randomize]\n",
        "\n",
        "TRAIN_SPLIT = int(0.6 * num_inputs)\n",
        "TEST_SPLIT = int(0.2 * num_inputs + TRAIN_SPLIT)\n",
        "\n",
        "inputs_train, inputs_test, inputs_validate = np.split(inputs, [TRAIN_SPLIT, TEST_SPLIT])\n",
        "outputs_train, outputs_test, outputs_validate = np.split(outputs, [TRAIN_SPLIT, TEST_SPLIT])\n",
        "\n",
        "print(\"Data set randomization and splitting complete.\")"
      ],
      "execution_count": 5,
      "outputs": [
        {
          "output_type": "stream",
          "text": [
            "Data set randomization and splitting complete.\n"
          ],
          "name": "stdout"
        }
      ]
    },
    {
      "cell_type": "code",
      "metadata": {
        "id": "iTuRoXuTnKHd"
      },
      "source": [
        "# Build model\n",
        "model = tf.keras.Sequential()\n",
        "model.add(tf.keras.layers.Dense(50, activation='relu'))\n",
        "model.add(tf.keras.layers.Dense(15, activation='relu'))\n",
        "model.add(tf.keras.layers.Dense(NUM_ACTIONS, activation='softmax'))\n",
        "model.compile(optimizer='rmsprop', loss='mse', metrics=['accuracy'])\n"
      ],
      "execution_count": 6,
      "outputs": []
    },
    {
      "cell_type": "code",
      "metadata": {
        "colab": {
          "base_uri": "https://localhost:8080/"
        },
        "id": "kAM_q-XTnWxZ",
        "outputId": "dee4027f-54da-4954-fe72-ee42756fa3d3"
      },
      "source": [
        "# Train model\n",
        "history = model.fit(inputs_train, outputs_train, epochs=100, batch_size=1, validation_data=(inputs_validate, outputs_validate))"
      ],
      "execution_count": 7,
      "outputs": [
        {
          "output_type": "stream",
          "text": [
            "Epoch 1/100\n",
            "54/54 [==============================] - 1s 5ms/step - loss: 0.2094 - accuracy: 0.6481 - val_loss: 0.2045 - val_accuracy: 0.7778\n",
            "Epoch 2/100\n",
            "54/54 [==============================] - 0s 2ms/step - loss: 0.1746 - accuracy: 0.7963 - val_loss: 0.1710 - val_accuracy: 1.0000\n",
            "Epoch 3/100\n",
            "54/54 [==============================] - 0s 2ms/step - loss: 0.1353 - accuracy: 0.9444 - val_loss: 0.1422 - val_accuracy: 1.0000\n",
            "Epoch 4/100\n",
            "54/54 [==============================] - 0s 2ms/step - loss: 0.1034 - accuracy: 0.9630 - val_loss: 0.1086 - val_accuracy: 1.0000\n",
            "Epoch 5/100\n",
            "54/54 [==============================] - 0s 2ms/step - loss: 0.0784 - accuracy: 0.9815 - val_loss: 0.0811 - val_accuracy: 1.0000\n",
            "Epoch 6/100\n",
            "54/54 [==============================] - 0s 2ms/step - loss: 0.0604 - accuracy: 0.9630 - val_loss: 0.0581 - val_accuracy: 1.0000\n",
            "Epoch 7/100\n",
            "54/54 [==============================] - 0s 2ms/step - loss: 0.0465 - accuracy: 0.9815 - val_loss: 0.0376 - val_accuracy: 1.0000\n",
            "Epoch 8/100\n",
            "54/54 [==============================] - 0s 2ms/step - loss: 0.0383 - accuracy: 0.9630 - val_loss: 0.0261 - val_accuracy: 1.0000\n",
            "Epoch 9/100\n",
            "54/54 [==============================] - 0s 2ms/step - loss: 0.0311 - accuracy: 0.9444 - val_loss: 0.0191 - val_accuracy: 1.0000\n",
            "Epoch 10/100\n",
            "54/54 [==============================] - 0s 2ms/step - loss: 0.0272 - accuracy: 0.9815 - val_loss: 0.0135 - val_accuracy: 1.0000\n",
            "Epoch 11/100\n",
            "54/54 [==============================] - 0s 2ms/step - loss: 0.0243 - accuracy: 0.9444 - val_loss: 0.0130 - val_accuracy: 1.0000\n",
            "Epoch 12/100\n",
            "54/54 [==============================] - 0s 2ms/step - loss: 0.0237 - accuracy: 0.9630 - val_loss: 0.0081 - val_accuracy: 1.0000\n",
            "Epoch 13/100\n",
            "54/54 [==============================] - 0s 2ms/step - loss: 0.0220 - accuracy: 0.9630 - val_loss: 0.0068 - val_accuracy: 1.0000\n",
            "Epoch 14/100\n",
            "54/54 [==============================] - 0s 2ms/step - loss: 0.0211 - accuracy: 0.9630 - val_loss: 0.0057 - val_accuracy: 1.0000\n",
            "Epoch 15/100\n",
            "54/54 [==============================] - 0s 2ms/step - loss: 0.0183 - accuracy: 0.9815 - val_loss: 0.0047 - val_accuracy: 1.0000\n",
            "Epoch 16/100\n",
            "54/54 [==============================] - 0s 2ms/step - loss: 0.0179 - accuracy: 0.9815 - val_loss: 0.0038 - val_accuracy: 1.0000\n",
            "Epoch 17/100\n",
            "54/54 [==============================] - 0s 2ms/step - loss: 0.0168 - accuracy: 0.9815 - val_loss: 0.0027 - val_accuracy: 1.0000\n",
            "Epoch 18/100\n",
            "54/54 [==============================] - 0s 2ms/step - loss: 0.0181 - accuracy: 0.9815 - val_loss: 0.0029 - val_accuracy: 1.0000\n",
            "Epoch 19/100\n",
            "54/54 [==============================] - 0s 2ms/step - loss: 0.0164 - accuracy: 0.9815 - val_loss: 0.0022 - val_accuracy: 1.0000\n",
            "Epoch 20/100\n",
            "54/54 [==============================] - 0s 2ms/step - loss: 0.0162 - accuracy: 0.9815 - val_loss: 0.0021 - val_accuracy: 1.0000\n",
            "Epoch 21/100\n",
            "54/54 [==============================] - 0s 2ms/step - loss: 0.0150 - accuracy: 0.9815 - val_loss: 0.0015 - val_accuracy: 1.0000\n",
            "Epoch 22/100\n",
            "54/54 [==============================] - 0s 2ms/step - loss: 0.0145 - accuracy: 0.9815 - val_loss: 0.0020 - val_accuracy: 1.0000\n",
            "Epoch 23/100\n",
            "54/54 [==============================] - 0s 2ms/step - loss: 0.0149 - accuracy: 0.9815 - val_loss: 0.0015 - val_accuracy: 1.0000\n",
            "Epoch 24/100\n",
            "54/54 [==============================] - 0s 2ms/step - loss: 0.0140 - accuracy: 0.9815 - val_loss: 0.0011 - val_accuracy: 1.0000\n",
            "Epoch 25/100\n",
            "54/54 [==============================] - 0s 2ms/step - loss: 0.0152 - accuracy: 0.9815 - val_loss: 8.5356e-04 - val_accuracy: 1.0000\n",
            "Epoch 26/100\n",
            "54/54 [==============================] - 0s 2ms/step - loss: 0.0131 - accuracy: 0.9815 - val_loss: 0.0010 - val_accuracy: 1.0000\n",
            "Epoch 27/100\n",
            "54/54 [==============================] - 0s 2ms/step - loss: 0.0126 - accuracy: 0.9815 - val_loss: 8.0711e-04 - val_accuracy: 1.0000\n",
            "Epoch 28/100\n",
            "54/54 [==============================] - 0s 2ms/step - loss: 0.0113 - accuracy: 0.9815 - val_loss: 8.0723e-04 - val_accuracy: 1.0000\n",
            "Epoch 29/100\n",
            "54/54 [==============================] - 0s 2ms/step - loss: 0.0103 - accuracy: 0.9815 - val_loss: 9.3155e-04 - val_accuracy: 1.0000\n",
            "Epoch 30/100\n",
            "54/54 [==============================] - 0s 2ms/step - loss: 0.0096 - accuracy: 0.9815 - val_loss: 6.7605e-04 - val_accuracy: 1.0000\n",
            "Epoch 31/100\n",
            "54/54 [==============================] - 0s 2ms/step - loss: 0.0074 - accuracy: 0.9815 - val_loss: 7.4338e-04 - val_accuracy: 1.0000\n",
            "Epoch 32/100\n",
            "54/54 [==============================] - 0s 2ms/step - loss: 0.0053 - accuracy: 0.9815 - val_loss: 5.1661e-04 - val_accuracy: 1.0000\n",
            "Epoch 33/100\n",
            "54/54 [==============================] - 0s 2ms/step - loss: 0.0066 - accuracy: 0.9815 - val_loss: 4.3196e-04 - val_accuracy: 1.0000\n",
            "Epoch 34/100\n",
            "54/54 [==============================] - 0s 2ms/step - loss: 0.0032 - accuracy: 1.0000 - val_loss: 4.1503e-04 - val_accuracy: 1.0000\n",
            "Epoch 35/100\n",
            "54/54 [==============================] - 0s 2ms/step - loss: 0.0019 - accuracy: 1.0000 - val_loss: 5.0273e-04 - val_accuracy: 1.0000\n",
            "Epoch 36/100\n",
            "54/54 [==============================] - 0s 2ms/step - loss: 0.0022 - accuracy: 1.0000 - val_loss: 2.7973e-04 - val_accuracy: 1.0000\n",
            "Epoch 37/100\n",
            "54/54 [==============================] - 0s 2ms/step - loss: 0.0019 - accuracy: 1.0000 - val_loss: 2.5671e-04 - val_accuracy: 1.0000\n",
            "Epoch 38/100\n",
            "54/54 [==============================] - 0s 2ms/step - loss: 0.0014 - accuracy: 1.0000 - val_loss: 2.4832e-04 - val_accuracy: 1.0000\n",
            "Epoch 39/100\n",
            "54/54 [==============================] - 0s 2ms/step - loss: 9.5433e-04 - accuracy: 1.0000 - val_loss: 1.9596e-04 - val_accuracy: 1.0000\n",
            "Epoch 40/100\n",
            "54/54 [==============================] - 0s 2ms/step - loss: 8.2636e-04 - accuracy: 1.0000 - val_loss: 1.7126e-04 - val_accuracy: 1.0000\n",
            "Epoch 41/100\n",
            "54/54 [==============================] - 0s 2ms/step - loss: 6.8318e-04 - accuracy: 1.0000 - val_loss: 1.4628e-04 - val_accuracy: 1.0000\n",
            "Epoch 42/100\n",
            "54/54 [==============================] - 0s 2ms/step - loss: 5.8021e-04 - accuracy: 1.0000 - val_loss: 8.7686e-05 - val_accuracy: 1.0000\n",
            "Epoch 43/100\n",
            "54/54 [==============================] - 0s 2ms/step - loss: 7.8854e-04 - accuracy: 1.0000 - val_loss: 1.2050e-04 - val_accuracy: 1.0000\n",
            "Epoch 44/100\n",
            "54/54 [==============================] - 0s 2ms/step - loss: 3.9542e-04 - accuracy: 1.0000 - val_loss: 6.8272e-05 - val_accuracy: 1.0000\n",
            "Epoch 45/100\n",
            "54/54 [==============================] - 0s 2ms/step - loss: 3.7997e-04 - accuracy: 1.0000 - val_loss: 6.0790e-05 - val_accuracy: 1.0000\n",
            "Epoch 46/100\n",
            "54/54 [==============================] - 0s 2ms/step - loss: 3.6622e-04 - accuracy: 1.0000 - val_loss: 4.0808e-05 - val_accuracy: 1.0000\n",
            "Epoch 47/100\n",
            "54/54 [==============================] - 0s 2ms/step - loss: 3.8007e-04 - accuracy: 1.0000 - val_loss: 5.9728e-05 - val_accuracy: 1.0000\n",
            "Epoch 48/100\n",
            "54/54 [==============================] - 0s 2ms/step - loss: 2.3778e-04 - accuracy: 1.0000 - val_loss: 4.8742e-05 - val_accuracy: 1.0000\n",
            "Epoch 49/100\n",
            "54/54 [==============================] - 0s 2ms/step - loss: 1.9655e-04 - accuracy: 1.0000 - val_loss: 5.8357e-05 - val_accuracy: 1.0000\n",
            "Epoch 50/100\n",
            "54/54 [==============================] - 0s 2ms/step - loss: 2.4269e-04 - accuracy: 1.0000 - val_loss: 2.9298e-05 - val_accuracy: 1.0000\n",
            "Epoch 51/100\n",
            "54/54 [==============================] - 0s 2ms/step - loss: 1.7855e-04 - accuracy: 1.0000 - val_loss: 2.7998e-05 - val_accuracy: 1.0000\n",
            "Epoch 52/100\n",
            "54/54 [==============================] - 0s 2ms/step - loss: 1.8146e-04 - accuracy: 1.0000 - val_loss: 2.4423e-05 - val_accuracy: 1.0000\n",
            "Epoch 53/100\n",
            "54/54 [==============================] - 0s 2ms/step - loss: 2.8312e-04 - accuracy: 1.0000 - val_loss: 1.0635e-05 - val_accuracy: 1.0000\n",
            "Epoch 54/100\n",
            "54/54 [==============================] - 0s 2ms/step - loss: 8.0707e-05 - accuracy: 1.0000 - val_loss: 2.3093e-05 - val_accuracy: 1.0000\n",
            "Epoch 55/100\n",
            "54/54 [==============================] - 0s 2ms/step - loss: 8.3213e-05 - accuracy: 1.0000 - val_loss: 2.4565e-05 - val_accuracy: 1.0000\n",
            "Epoch 56/100\n",
            "54/54 [==============================] - 0s 2ms/step - loss: 9.7983e-05 - accuracy: 1.0000 - val_loss: 8.5205e-06 - val_accuracy: 1.0000\n",
            "Epoch 57/100\n",
            "54/54 [==============================] - 0s 2ms/step - loss: 6.9688e-05 - accuracy: 1.0000 - val_loss: 1.2395e-05 - val_accuracy: 1.0000\n",
            "Epoch 58/100\n",
            "54/54 [==============================] - 0s 2ms/step - loss: 6.0192e-05 - accuracy: 1.0000 - val_loss: 8.0947e-06 - val_accuracy: 1.0000\n",
            "Epoch 59/100\n",
            "54/54 [==============================] - 0s 2ms/step - loss: 4.9787e-05 - accuracy: 1.0000 - val_loss: 8.9048e-06 - val_accuracy: 1.0000\n",
            "Epoch 60/100\n",
            "54/54 [==============================] - 0s 2ms/step - loss: 5.0237e-05 - accuracy: 1.0000 - val_loss: 5.1993e-06 - val_accuracy: 1.0000\n",
            "Epoch 61/100\n",
            "54/54 [==============================] - 0s 2ms/step - loss: 2.4682e-05 - accuracy: 1.0000 - val_loss: 2.9481e-06 - val_accuracy: 1.0000\n",
            "Epoch 62/100\n",
            "54/54 [==============================] - 0s 2ms/step - loss: 3.3122e-05 - accuracy: 1.0000 - val_loss: 5.4023e-06 - val_accuracy: 1.0000\n",
            "Epoch 63/100\n",
            "54/54 [==============================] - 0s 2ms/step - loss: 2.1376e-05 - accuracy: 1.0000 - val_loss: 2.6491e-06 - val_accuracy: 1.0000\n",
            "Epoch 64/100\n",
            "54/54 [==============================] - 0s 2ms/step - loss: 2.0058e-05 - accuracy: 1.0000 - val_loss: 2.2305e-06 - val_accuracy: 1.0000\n",
            "Epoch 65/100\n",
            "54/54 [==============================] - 0s 2ms/step - loss: 3.0931e-05 - accuracy: 1.0000 - val_loss: 1.7392e-06 - val_accuracy: 1.0000\n",
            "Epoch 66/100\n",
            "54/54 [==============================] - 0s 2ms/step - loss: 1.1944e-05 - accuracy: 1.0000 - val_loss: 3.1163e-06 - val_accuracy: 1.0000\n",
            "Epoch 67/100\n",
            "54/54 [==============================] - 0s 2ms/step - loss: 9.4372e-06 - accuracy: 1.0000 - val_loss: 3.8209e-06 - val_accuracy: 1.0000\n",
            "Epoch 68/100\n",
            "54/54 [==============================] - 0s 2ms/step - loss: 1.1170e-05 - accuracy: 1.0000 - val_loss: 3.1627e-06 - val_accuracy: 1.0000\n",
            "Epoch 69/100\n",
            "54/54 [==============================] - 0s 2ms/step - loss: 1.3851e-05 - accuracy: 1.0000 - val_loss: 1.1915e-06 - val_accuracy: 1.0000\n",
            "Epoch 70/100\n",
            "54/54 [==============================] - 0s 2ms/step - loss: 4.8748e-06 - accuracy: 1.0000 - val_loss: 8.2094e-07 - val_accuracy: 1.0000\n",
            "Epoch 71/100\n",
            "54/54 [==============================] - 0s 2ms/step - loss: 5.6384e-06 - accuracy: 1.0000 - val_loss: 1.1043e-06 - val_accuracy: 1.0000\n",
            "Epoch 72/100\n",
            "54/54 [==============================] - 0s 2ms/step - loss: 4.0320e-06 - accuracy: 1.0000 - val_loss: 5.4360e-07 - val_accuracy: 1.0000\n",
            "Epoch 73/100\n",
            "54/54 [==============================] - 0s 2ms/step - loss: 4.3686e-06 - accuracy: 1.0000 - val_loss: 4.5273e-07 - val_accuracy: 1.0000\n",
            "Epoch 74/100\n",
            "54/54 [==============================] - 0s 2ms/step - loss: 4.4776e-06 - accuracy: 1.0000 - val_loss: 5.9274e-07 - val_accuracy: 1.0000\n",
            "Epoch 75/100\n",
            "54/54 [==============================] - 0s 2ms/step - loss: 2.6867e-06 - accuracy: 1.0000 - val_loss: 7.4219e-07 - val_accuracy: 1.0000\n",
            "Epoch 76/100\n",
            "54/54 [==============================] - 0s 2ms/step - loss: 3.3203e-06 - accuracy: 1.0000 - val_loss: 2.7098e-07 - val_accuracy: 1.0000\n",
            "Epoch 77/100\n",
            "54/54 [==============================] - 0s 2ms/step - loss: 1.7916e-06 - accuracy: 1.0000 - val_loss: 2.2291e-07 - val_accuracy: 1.0000\n",
            "Epoch 78/100\n",
            "54/54 [==============================] - 0s 2ms/step - loss: 2.6606e-06 - accuracy: 1.0000 - val_loss: 1.7790e-07 - val_accuracy: 1.0000\n",
            "Epoch 79/100\n",
            "54/54 [==============================] - 0s 2ms/step - loss: 9.9390e-07 - accuracy: 1.0000 - val_loss: 2.8055e-07 - val_accuracy: 1.0000\n",
            "Epoch 80/100\n",
            "54/54 [==============================] - 0s 2ms/step - loss: 1.2509e-06 - accuracy: 1.0000 - val_loss: 3.8906e-07 - val_accuracy: 1.0000\n",
            "Epoch 81/100\n",
            "54/54 [==============================] - 0s 2ms/step - loss: 1.4909e-06 - accuracy: 1.0000 - val_loss: 1.6870e-07 - val_accuracy: 1.0000\n",
            "Epoch 82/100\n",
            "54/54 [==============================] - 0s 2ms/step - loss: 1.3822e-06 - accuracy: 1.0000 - val_loss: 1.2902e-07 - val_accuracy: 1.0000\n",
            "Epoch 83/100\n",
            "54/54 [==============================] - 0s 2ms/step - loss: 5.2614e-07 - accuracy: 1.0000 - val_loss: 8.6862e-08 - val_accuracy: 1.0000\n",
            "Epoch 84/100\n",
            "54/54 [==============================] - 0s 2ms/step - loss: 6.7414e-07 - accuracy: 1.0000 - val_loss: 1.6815e-07 - val_accuracy: 1.0000\n",
            "Epoch 85/100\n",
            "54/54 [==============================] - 0s 2ms/step - loss: 9.6195e-07 - accuracy: 1.0000 - val_loss: 1.3785e-07 - val_accuracy: 1.0000\n",
            "Epoch 86/100\n",
            "54/54 [==============================] - 0s 2ms/step - loss: 3.0753e-07 - accuracy: 1.0000 - val_loss: 9.6765e-08 - val_accuracy: 1.0000\n",
            "Epoch 87/100\n",
            "54/54 [==============================] - 0s 2ms/step - loss: 4.6608e-07 - accuracy: 1.0000 - val_loss: 1.4705e-07 - val_accuracy: 1.0000\n",
            "Epoch 88/100\n",
            "54/54 [==============================] - 0s 2ms/step - loss: 2.7083e-07 - accuracy: 1.0000 - val_loss: 4.8111e-08 - val_accuracy: 1.0000\n",
            "Epoch 89/100\n",
            "54/54 [==============================] - 0s 2ms/step - loss: 3.0698e-07 - accuracy: 1.0000 - val_loss: 9.9545e-08 - val_accuracy: 1.0000\n",
            "Epoch 90/100\n",
            "54/54 [==============================] - 0s 2ms/step - loss: 2.1238e-07 - accuracy: 1.0000 - val_loss: 4.5547e-08 - val_accuracy: 1.0000\n",
            "Epoch 91/100\n",
            "54/54 [==============================] - 0s 2ms/step - loss: 2.4261e-07 - accuracy: 1.0000 - val_loss: 3.7516e-08 - val_accuracy: 1.0000\n",
            "Epoch 92/100\n",
            "54/54 [==============================] - 0s 2ms/step - loss: 1.2927e-07 - accuracy: 1.0000 - val_loss: 5.5818e-08 - val_accuracy: 1.0000\n",
            "Epoch 93/100\n",
            "54/54 [==============================] - 0s 2ms/step - loss: 1.8235e-07 - accuracy: 1.0000 - val_loss: 3.5976e-08 - val_accuracy: 1.0000\n",
            "Epoch 94/100\n",
            "54/54 [==============================] - 0s 2ms/step - loss: 8.3451e-08 - accuracy: 1.0000 - val_loss: 2.4264e-08 - val_accuracy: 1.0000\n",
            "Epoch 95/100\n",
            "54/54 [==============================] - 0s 2ms/step - loss: 1.3426e-07 - accuracy: 1.0000 - val_loss: 3.4905e-08 - val_accuracy: 1.0000\n",
            "Epoch 96/100\n",
            "54/54 [==============================] - 0s 2ms/step - loss: 5.4683e-08 - accuracy: 1.0000 - val_loss: 9.0396e-08 - val_accuracy: 1.0000\n",
            "Epoch 97/100\n",
            "54/54 [==============================] - 0s 2ms/step - loss: 7.3820e-08 - accuracy: 1.0000 - val_loss: 4.9122e-08 - val_accuracy: 1.0000\n",
            "Epoch 98/100\n",
            "54/54 [==============================] - 0s 2ms/step - loss: 7.8562e-08 - accuracy: 1.0000 - val_loss: 1.8508e-08 - val_accuracy: 1.0000\n",
            "Epoch 99/100\n",
            "54/54 [==============================] - 0s 2ms/step - loss: 5.5725e-08 - accuracy: 1.0000 - val_loss: 2.2753e-08 - val_accuracy: 1.0000\n",
            "Epoch 100/100\n",
            "54/54 [==============================] - 0s 2ms/step - loss: 4.9527e-08 - accuracy: 1.0000 - val_loss: 1.9830e-08 - val_accuracy: 1.0000\n"
          ],
          "name": "stdout"
        }
      ]
    },
    {
      "cell_type": "code",
      "metadata": {
        "colab": {
          "base_uri": "https://localhost:8080/",
          "height": 265
        },
        "id": "n6mh8cPIpDeJ",
        "outputId": "7422e05b-ba3e-448c-9f23-ed48f6626e62"
      },
      "source": [
        "# Visualize the change in accuracy of model over the training process\n",
        "metrics = history.history\n",
        "plt.plot(history.epoch, metrics['accuracy'], metrics['val_accuracy'])\n",
        "plt.legend(['accuracy','val_accuracy'])\n",
        "plt.show()"
      ],
      "execution_count": 8,
      "outputs": [
        {
          "output_type": "display_data",
          "data": {
            "image/png": "[encoded data removed]",
            "text/plain": [
              "<Figure size 432x288 with 1 Axes>"
            ]
          },
          "metadata": {
            "tags": [],
            "needs_background": "light"
          }
        }
      ]
    },
    {
      "cell_type": "code",
      "metadata": {
        "colab": {
          "base_uri": "https://localhost:8080/",
          "height": 265
        },
        "id": "ZlInFOyjvUlP",
        "outputId": "a60662a2-bf41-410e-d867-595936e4fc02"
      },
      "source": [
        "# Visualize the loss of the model over the training process\n",
        "metrics = history.history\n",
        "plt.plot(history.epoch, metrics['loss'], metrics['val_loss'])\n",
        "plt.legend(['loss','val_loss'])\n",
        "plt.show()"
      ],
      "execution_count": 9,
      "outputs": [
        {
          "output_type": "display_data",
          "data": {
            "image/png": "[encoded data removed]",
            "text/plain": [
              "<Figure size 432x288 with 1 Axes>"
            ]
          },
          "metadata": {
            "tags": [],
            "needs_background": "light"
          }
        }
      ]
    },
    {
      "cell_type": "code",
      "metadata": {
        "colab": {
          "base_uri": "https://localhost:8080/"
        },
        "id": "HICFh5qLvXQ7",
        "outputId": "03eb1090-7d7c-42c8-eb0c-0e6adaaff088"
      },
      "source": [
        "# Test model on the test data and measure accuracy\n",
        "predictions = np.argmax(model.predict(inputs_test), axis=1)\n",
        "true_values = np.argmax(outputs_test, axis=1)\n",
        "\n",
        "test_acc = sum(predictions == true_values) / len(true_values)\n",
        "print(f'Test set accuracy: {test_acc:.0%}')"
      ],
      "execution_count": 10,
      "outputs": [
        {
          "output_type": "stream",
          "text": [
            "Test set accuracy: 100%\n"
          ],
          "name": "stdout"
        }
      ]
    },
    {
      "cell_type": "code",
      "metadata": {
        "colab": {
          "base_uri": "https://localhost:8080/",
          "height": 501
        },
        "id": "qreqMKxQwDXm",
        "outputId": "1c54f9f4-9171-4985-e19e-522ad8fc6b85"
      },
      "source": [
        "# Plot a confusion matrix for model on test data\n",
        "confusion_mtx = tf.math.confusion_matrix(true_values, predictions) \n",
        "plt.figure(figsize=(10, 8))\n",
        "sns.heatmap(confusion_mtx, xticklabels=ACTIONS, yticklabels=ACTIONS, \n",
        "            annot=True, fmt='g')\n",
        "plt.xlabel('Prediction')\n",
        "plt.ylabel('Label')\n",
        "plt.show()"
      ],
      "execution_count": 11,
      "outputs": [
        {
          "output_type": "display_data",
          "data": {
            "image/png": "[encoded data removed]",
            "text/plain": [
              "<Figure size 720x576 with 2 Axes>"
            ]
          },
          "metadata": {
            "tags": [],
            "needs_background": "light"
          }
        }
      ]
    },
    {
      "cell_type": "code",
      "metadata": {
        "colab": {
          "base_uri": "https://localhost:8080/"
        },
        "id": "MsyXiukYxhqY",
        "outputId": "7e80a101-7dc8-4a22-b22d-d8d1ce7b8b33"
      },
      "source": [
        "# Convert the model to the TensorFlow Lite format without quantization\n",
        "converter = tf.lite.TFLiteConverter.from_keras_model(model)\n",
        "tflite_model = converter.convert()\n",
        "\n",
        "# Save the model to disk\n",
        "open(\"gesture_model.tflite\", \"wb\").write(tflite_model)\n",
        "  \n",
        "import os\n",
        "basic_model_size = os.path.getsize(\"gesture_model.tflite\")\n",
        "print(\"Model is %d bytes\" % basic_model_size)"
      ],
      "execution_count": 12,
      "outputs": [
        {
          "output_type": "stream",
          "text": [
            "INFO:tensorflow:Assets written to: /tmp/tmpjrkiz_cs/assets\n",
            "Model is 65128 bytes\n"
          ],
          "name": "stdout"
        }
      ]
    },
    {
      "cell_type": "code",
      "metadata": {
        "colab": {
          "base_uri": "https://localhost:8080/"
        },
        "id": "Mp8J6BHmyK_I",
        "outputId": "df9fb315-f45a-4338-f06a-42947b3a1488"
      },
      "source": [
        "!apt-get -qq install xxd"
      ],
      "execution_count": 13,
      "outputs": [
        {
          "output_type": "stream",
          "text": [
            "Selecting previously unselected package xxd.\n",
            "(Reading database ... 160772 files and directories currently installed.)\n",
            "Preparing to unpack .../xxd_2%3a8.0.1453-1ubuntu1.4_amd64.deb ...\n",
            "Unpacking xxd (2:8.0.1453-1ubuntu1.4) ...\n",
            "Setting up xxd (2:8.0.1453-1ubuntu1.4) ...\n",
            "Processing triggers for man-db (2.8.3-2ubuntu0.1) ...\n"
          ],
          "name": "stdout"
        }
      ]
    },
    {
      "cell_type": "code",
      "metadata": {
        "colab": {
          "base_uri": "https://localhost:8080/"
        },
        "id": "oPJhsnglyMhO",
        "outputId": "85c2c3e0-be69-44a3-d44b-fb7b949530d6"
      },
      "source": [
        "!echo \"const unsigned char model[] = {\" > /content/model.h\n",
        "!cat gesture_model.tflite | xxd -i      >> /content/model.h\n",
        "!echo \"};\"                              >> /content/model.h\n",
        "\n",
        "import os\n",
        "model_h_size = os.path.getsize(\"model.h\")\n",
        "print(f\"Header file, model.h, is {model_h_size:,} bytes.\")\n",
        "print(\"\\nOpen the side panel (refresh if needed). Double click model.h to download the file.\")"
      ],
      "execution_count": 14,
      "outputs": [
        {
          "output_type": "stream",
          "text": [
            "Header file, model.h, is 401,658 bytes.\n",
            "\n",
            "Open the side panel (refresh if needed). Double click model.h to download the file.\n"
          ],
          "name": "stdout"
        }
      ]
    }
  ]
}